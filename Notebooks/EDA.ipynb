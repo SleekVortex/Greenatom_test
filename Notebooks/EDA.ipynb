{
 "cells": [
  {
   "cell_type": "markdown",
   "metadata": {},
   "source": [
    "**EDA**  \n",
    "Изучем структуру и особенности данных."
   ]
  },
  {
   "cell_type": "code",
   "execution_count": 55,
   "metadata": {},
   "outputs": [],
   "source": [
    "import pandas as pd\n",
    "import numpy as np\n",
    "import matplotlib.pyplot as plt\n",
    "\n",
    "from pprint import pprint"
   ]
  },
  {
   "cell_type": "code",
   "execution_count": 5,
   "metadata": {},
   "outputs": [],
   "source": [
    "train_df = pd.read_csv('../data/train.csv')"
   ]
  },
  {
   "cell_type": "code",
   "execution_count": 7,
   "metadata": {},
   "outputs": [
    {
     "data": {
      "text/html": [
       "<div>\n",
       "<style scoped>\n",
       "    .dataframe tbody tr th:only-of-type {\n",
       "        vertical-align: middle;\n",
       "    }\n",
       "\n",
       "    .dataframe tbody tr th {\n",
       "        vertical-align: top;\n",
       "    }\n",
       "\n",
       "    .dataframe thead th {\n",
       "        text-align: right;\n",
       "    }\n",
       "</style>\n",
       "<table border=\"1\" class=\"dataframe\">\n",
       "  <thead>\n",
       "    <tr style=\"text-align: right;\">\n",
       "      <th></th>\n",
       "      <th>id</th>\n",
       "      <th>text</th>\n",
       "      <th>rating</th>\n",
       "      <th>positive</th>\n",
       "    </tr>\n",
       "  </thead>\n",
       "  <tbody>\n",
       "    <tr>\n",
       "      <th>0</th>\n",
       "      <td>0</td>\n",
       "      <td>Bromwell High is a cartoon comedy. It ran at t...</td>\n",
       "      <td>9</td>\n",
       "      <td>1</td>\n",
       "    </tr>\n",
       "    <tr>\n",
       "      <th>1</th>\n",
       "      <td>10000</td>\n",
       "      <td>Homelessness (or Houselessness as George Carli...</td>\n",
       "      <td>8</td>\n",
       "      <td>1</td>\n",
       "    </tr>\n",
       "    <tr>\n",
       "      <th>2</th>\n",
       "      <td>10001</td>\n",
       "      <td>Brilliant over-acting by Lesley Ann Warren. Be...</td>\n",
       "      <td>10</td>\n",
       "      <td>1</td>\n",
       "    </tr>\n",
       "  </tbody>\n",
       "</table>\n",
       "</div>"
      ],
      "text/plain": [
       "      id                                               text  rating  positive\n",
       "0      0  Bromwell High is a cartoon comedy. It ran at t...       9         1\n",
       "1  10000  Homelessness (or Houselessness as George Carli...       8         1\n",
       "2  10001  Brilliant over-acting by Lesley Ann Warren. Be...      10         1"
      ]
     },
     "execution_count": 7,
     "metadata": {},
     "output_type": "execute_result"
    }
   ],
   "source": [
    "train_df.head(3)"
   ]
  },
  {
   "cell_type": "code",
   "execution_count": 8,
   "metadata": {},
   "outputs": [
    {
     "data": {
      "text/html": [
       "<div>\n",
       "<style scoped>\n",
       "    .dataframe tbody tr th:only-of-type {\n",
       "        vertical-align: middle;\n",
       "    }\n",
       "\n",
       "    .dataframe tbody tr th {\n",
       "        vertical-align: top;\n",
       "    }\n",
       "\n",
       "    .dataframe thead th {\n",
       "        text-align: right;\n",
       "    }\n",
       "</style>\n",
       "<table border=\"1\" class=\"dataframe\">\n",
       "  <thead>\n",
       "    <tr style=\"text-align: right;\">\n",
       "      <th></th>\n",
       "      <th>id</th>\n",
       "      <th>text</th>\n",
       "      <th>rating</th>\n",
       "      <th>positive</th>\n",
       "    </tr>\n",
       "  </thead>\n",
       "  <tbody>\n",
       "    <tr>\n",
       "      <th>24997</th>\n",
       "      <td>999</td>\n",
       "      <td>I saw 'Descent' last night at the Stockholm Fi...</td>\n",
       "      <td>3</td>\n",
       "      <td>0</td>\n",
       "    </tr>\n",
       "    <tr>\n",
       "      <th>24998</th>\n",
       "      <td>99</td>\n",
       "      <td>Some films that you pick up for a pound turn o...</td>\n",
       "      <td>1</td>\n",
       "      <td>0</td>\n",
       "    </tr>\n",
       "    <tr>\n",
       "      <th>24999</th>\n",
       "      <td>9</td>\n",
       "      <td>This is one of the dumbest films, I've ever se...</td>\n",
       "      <td>1</td>\n",
       "      <td>0</td>\n",
       "    </tr>\n",
       "  </tbody>\n",
       "</table>\n",
       "</div>"
      ],
      "text/plain": [
       "        id                                               text  rating  \\\n",
       "24997  999  I saw 'Descent' last night at the Stockholm Fi...       3   \n",
       "24998   99  Some films that you pick up for a pound turn o...       1   \n",
       "24999    9  This is one of the dumbest films, I've ever se...       1   \n",
       "\n",
       "       positive  \n",
       "24997         0  \n",
       "24998         0  \n",
       "24999         0  "
      ]
     },
     "execution_count": 8,
     "metadata": {},
     "output_type": "execute_result"
    }
   ],
   "source": [
    "train_df.tail(3)"
   ]
  },
  {
   "cell_type": "code",
   "execution_count": 9,
   "metadata": {},
   "outputs": [
    {
     "name": "stdout",
     "output_type": "stream",
     "text": [
      "<class 'pandas.core.frame.DataFrame'>\n",
      "RangeIndex: 25000 entries, 0 to 24999\n",
      "Data columns (total 4 columns):\n",
      " #   Column    Non-Null Count  Dtype \n",
      "---  ------    --------------  ----- \n",
      " 0   id        25000 non-null  int64 \n",
      " 1   text      25000 non-null  object\n",
      " 2   rating    25000 non-null  int64 \n",
      " 3   positive  25000 non-null  int64 \n",
      "dtypes: int64(3), object(1)\n",
      "memory usage: 781.4+ KB\n"
     ]
    }
   ],
   "source": [
    "train_df.info()\n"
   ]
  },
  {
   "cell_type": "code",
   "execution_count": 17,
   "metadata": {},
   "outputs": [
    {
     "data": {
      "text/html": [
       "<div>\n",
       "<style scoped>\n",
       "    .dataframe tbody tr th:only-of-type {\n",
       "        vertical-align: middle;\n",
       "    }\n",
       "\n",
       "    .dataframe tbody tr th {\n",
       "        vertical-align: top;\n",
       "    }\n",
       "\n",
       "    .dataframe thead th {\n",
       "        text-align: right;\n",
       "    }\n",
       "</style>\n",
       "<table border=\"1\" class=\"dataframe\">\n",
       "  <thead>\n",
       "    <tr style=\"text-align: right;\">\n",
       "      <th></th>\n",
       "      <th>id</th>\n",
       "    </tr>\n",
       "    <tr>\n",
       "      <th>positive</th>\n",
       "      <th></th>\n",
       "    </tr>\n",
       "  </thead>\n",
       "  <tbody>\n",
       "    <tr>\n",
       "      <th>0</th>\n",
       "      <td>12500</td>\n",
       "    </tr>\n",
       "    <tr>\n",
       "      <th>1</th>\n",
       "      <td>12500</td>\n",
       "    </tr>\n",
       "  </tbody>\n",
       "</table>\n",
       "</div>"
      ],
      "text/plain": [
       "             id\n",
       "positive       \n",
       "0         12500\n",
       "1         12500"
      ]
     },
     "execution_count": 17,
     "metadata": {},
     "output_type": "execute_result"
    }
   ],
   "source": [
    "train_df.groupby('positive').count()[['id']]"
   ]
  },
  {
   "cell_type": "markdown",
   "metadata": {},
   "source": [
    "Одинаковое количество позитивных и негативных отзывов, как и написано в README."
   ]
  },
  {
   "cell_type": "code",
   "execution_count": 53,
   "metadata": {},
   "outputs": [
    {
     "data": {
      "text/html": [
       "<div>\n",
       "<style scoped>\n",
       "    .dataframe tbody tr th:only-of-type {\n",
       "        vertical-align: middle;\n",
       "    }\n",
       "\n",
       "    .dataframe tbody tr th {\n",
       "        vertical-align: top;\n",
       "    }\n",
       "\n",
       "    .dataframe thead th {\n",
       "        text-align: right;\n",
       "    }\n",
       "</style>\n",
       "<table border=\"1\" class=\"dataframe\">\n",
       "  <thead>\n",
       "    <tr style=\"text-align: right;\">\n",
       "      <th></th>\n",
       "      <th>rating</th>\n",
       "      <th>count</th>\n",
       "    </tr>\n",
       "  </thead>\n",
       "  <tbody>\n",
       "    <tr>\n",
       "      <th>0</th>\n",
       "      <td>1</td>\n",
       "      <td>5100</td>\n",
       "    </tr>\n",
       "    <tr>\n",
       "      <th>1</th>\n",
       "      <td>10</td>\n",
       "      <td>4732</td>\n",
       "    </tr>\n",
       "    <tr>\n",
       "      <th>2</th>\n",
       "      <td>8</td>\n",
       "      <td>3009</td>\n",
       "    </tr>\n",
       "    <tr>\n",
       "      <th>3</th>\n",
       "      <td>4</td>\n",
       "      <td>2696</td>\n",
       "    </tr>\n",
       "    <tr>\n",
       "      <th>4</th>\n",
       "      <td>7</td>\n",
       "      <td>2496</td>\n",
       "    </tr>\n",
       "    <tr>\n",
       "      <th>5</th>\n",
       "      <td>3</td>\n",
       "      <td>2420</td>\n",
       "    </tr>\n",
       "    <tr>\n",
       "      <th>6</th>\n",
       "      <td>2</td>\n",
       "      <td>2284</td>\n",
       "    </tr>\n",
       "    <tr>\n",
       "      <th>7</th>\n",
       "      <td>9</td>\n",
       "      <td>2263</td>\n",
       "    </tr>\n",
       "  </tbody>\n",
       "</table>\n",
       "</div>"
      ],
      "text/plain": [
       "   rating  count\n",
       "0       1   5100\n",
       "1      10   4732\n",
       "2       8   3009\n",
       "3       4   2696\n",
       "4       7   2496\n",
       "5       3   2420\n",
       "6       2   2284\n",
       "7       9   2263"
      ]
     },
     "execution_count": 53,
     "metadata": {},
     "output_type": "execute_result"
    }
   ],
   "source": [
    "rating_counts = train_df['rating'].value_counts().reset_index()\n",
    "rating_counts"
   ]
  },
  {
   "cell_type": "code",
   "execution_count": 54,
   "metadata": {},
   "outputs": [
    {
     "data": {
      "image/png": "[encoded data removed]",
      "text/plain": [
       "<Figure size 640x480 with 1 Axes>"
      ]
     },
     "metadata": {},
     "output_type": "display_data"
    }
   ],
   "source": [
    "plt.bar(rating_counts['rating'], rating_counts['count']);\n",
    "plt.xticks(range(11));\n",
    "plt.xlabel('Оценка');\n",
    "plt.ylabel('Количество отзывов');\n",
    "plt.title('Распределение оценок');\n"
   ]
  },
  {
   "cell_type": "markdown",
   "metadata": {},
   "source": [
    "Примерно одинаковое количество отзывов для оценок от 1 до 10, исключая 5 и 6.  \n",
    "Оценки 1 и 10 встречаются примерно в 2 раза чаще других."
   ]
  },
  {
   "cell_type": "markdown",
   "metadata": {},
   "source": [
    "В наборе данных отсутствуют оценка 5, 6.  \n",
    "В описании сказано, что набор данных предназначен для бинарного анализа тональностей, а оценки 5 и 6 близки к нейтральности.  \n",
    "В связи с этим авторы датасета не включают эти оценка и в обучающай набор,  \n",
    "а значит мы не сможем обучить модель прогнозировать эти оценки, используя эти данные, и методы классификации."
   ]
  },
  {
   "cell_type": "markdown",
   "metadata": {},
   "source": [
    "Рассмотрим некоторые тексты, чтобы понять структуру данных, выявить особенности\n",
    "\n"
   ]
  },
  {
   "cell_type": "code",
   "execution_count": 22,
   "metadata": {},
   "outputs": [
    {
     "name": "stdout",
     "output_type": "stream",
     "text": [
      "('Bromwell High is a cartoon comedy. It ran at the same time as some other '\n",
      " 'programs about school life, such as \"Teachers\". My 35 years in the teaching '\n",
      " \"profession lead me to believe that Bromwell High's satire is much closer to \"\n",
      " 'reality than is \"Teachers\". The scramble to survive financially, the '\n",
      " \"insightful students who can see right through their pathetic teachers' pomp, \"\n",
      " 'the pettiness of the whole situation, all remind me of the schools I knew '\n",
      " 'and their students. When I saw the episode in which a student repeatedly '\n",
      " 'tried to burn down the school, I immediately recalled ......... at '\n",
      " \".......... High. A classic line: INSPECTOR: I'm here to sack one of your \"\n",
      " 'teachers. STUDENT: Welcome to Bromwell High. I expect that many adults of my '\n",
      " \"age think that Bromwell High is far fetched. What a pity that it isn't!\")\n"
     ]
    }
   ],
   "source": [
    "pprint(train_df['text'][0])"
   ]
  },
  {
   "cell_type": "code",
   "execution_count": 23,
   "metadata": {},
   "outputs": [
    {
     "name": "stdout",
     "output_type": "stream",
     "text": [
      "('Homelessness (or Houselessness as George Carlin stated) has been an issue '\n",
      " 'for years but never a plan to help those on the street that were once '\n",
      " 'considered human who did everything from going to school, work, or vote for '\n",
      " 'the matter. Most people think of the homeless as just a lost cause while '\n",
      " 'worrying about things such as racism, the war on Iraq, pressuring kids to '\n",
      " \"succeed, technology, the elections, inflation, or worrying if they'll be \"\n",
      " 'next to end up on the streets.<br /><br />But what if you were given a bet '\n",
      " 'to live on the streets for a month without the luxuries you once had from a '\n",
      " 'home, the entertainment sets, a bathroom, pictures on the wall, a computer, '\n",
      " \"and everything you once treasure to see what it's like to be homeless? That \"\n",
      " \"is Goddard Bolt's lesson.<br /><br />Mel Brooks (who directs) who stars as \"\n",
      " 'Bolt plays a rich man who has everything in the world until deciding to make '\n",
      " 'a bet with a sissy rival (Jeffery Tambor) to see if he can live in the '\n",
      " 'streets for thirty days without the luxuries; if Bolt succeeds, he can do '\n",
      " \"what he wants with a future project of making more buildings. The bet's on \"\n",
      " 'where Bolt is thrown on the street with a bracelet on his leg to monitor his '\n",
      " \"every move where he can't step off the sidewalk. He's given the nickname \"\n",
      " \"Pepto by a vagrant after it's written on his forehead where Bolt meets other \"\n",
      " 'characters including a woman by the name of Molly (Lesley Ann Warren) an '\n",
      " 'ex-dancer who got divorce before losing her home, and her pals Sailor '\n",
      " '(Howard Morris) and Fumes (Teddy Wilson) who are already used to the '\n",
      " \"streets. They're survivors. Bolt isn't. He's not used to reaching mutual \"\n",
      " \"agreements like he once did when being rich where it's fight or flight, kill \"\n",
      " 'or be killed.<br /><br />While the love connection between Molly and Bolt '\n",
      " 'wasn\\'t necessary to plot, I found \"Life Stinks\" to be one of Mel Brooks\\' '\n",
      " 'observant films where prior to being a comedy, it shows a tender side '\n",
      " 'compared to his slapstick work such as Blazing Saddles, Young Frankenstein, '\n",
      " \"or Spaceballs for the matter, to show what it's like having something \"\n",
      " 'valuable before losing it the next day or on the other hand making a stupid '\n",
      " \"bet like all rich people do when they don't know what to do with their \"\n",
      " 'money. Maybe they should give it to the homeless instead of using it like '\n",
      " 'Monopoly money.<br /><br />Or maybe this film will inspire you to help '\n",
      " 'others.')\n"
     ]
    }
   ],
   "source": [
    "pprint(train_df['text'][1])"
   ]
  },
  {
   "cell_type": "markdown",
   "metadata": {},
   "source": [
    "Здесь заметим, что в текстах есть специальные символы, например теги HTML.  \n",
    "В дальнейшем может понадобиться чистка данных."
   ]
  },
  {
   "cell_type": "code",
   "execution_count": 63,
   "metadata": {},
   "outputs": [
    {
     "name": "stdout",
     "output_type": "stream",
     "text": [
      "Максимальная длина текстов:  13704\n",
      "Минимальная длина текстов:  52\n",
      "Средняя длина текстов:  1325\n"
     ]
    }
   ],
   "source": [
    "max_length = 0\n",
    "text_lens = []\n",
    "\n",
    "for text in train_df['text']:\n",
    "  current_len = len(text)\n",
    "  text_lens.append(current_len)\n",
    "\n",
    "text_lens = np.array(text_lens)\n",
    "print('Максимальная длина текстов: ', text_lens.max())\n",
    "print('Минимальная длина текстов: ', text_lens.min())\n",
    "print('Средняя длина текстов: ', round(text_lens.mean()))"
   ]
  },
  {
   "cell_type": "markdown",
   "metadata": {},
   "source": [
    "В наборе представленны тексты разной длины, от 52 символов до 13704.  \n",
    "Возможно нам придется обрезать тексты к длине близкой к средней.\n"
   ]
  }
 ],
 "metadata": {
  "kernelspec": {
   "display_name": "venv",
   "language": "python",
   "name": "python3"
  },
  "language_info": {
   "codemirror_mode": {
    "name": "ipython",
    "version": 3
   },
   "file_extension": ".py",
   "mimetype": "text/x-python",
   "name": "python",
   "nbconvert_exporter": "python",
   "pygments_lexer": "ipython3",
   "version": "3.9.8"
  }
 },
 "nbformat": 4,
 "nbformat_minor": 2
}
