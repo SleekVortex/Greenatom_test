{
 "cells": [
  {
   "cell_type": "markdown",
   "metadata": {},
   "source": [
    "**Этап подготовки данных**"
   ]
  },
  {
   "cell_type": "code",
   "execution_count": 23,
   "metadata": {},
   "outputs": [],
   "source": [
    "import os\n",
    "import pandas as pd"
   ]
  },
  {
   "cell_type": "markdown",
   "metadata": {},
   "source": [
    "Определим необходимые функции для парсинга файлов с текстами\n"
   ]
  },
  {
   "cell_type": "code",
   "execution_count": 5,
   "metadata": {},
   "outputs": [],
   "source": [
    "def read_file(path):\n",
    "    with open(path, 'r', encoding='utf-8') as f:\n",
    "        text = f.read()\n",
    "    return text"
   ]
  },
  {
   "cell_type": "code",
   "execution_count": 13,
   "metadata": {},
   "outputs": [],
   "source": [
    "def data_parse(sample: str, sentiment: str, data_dir: str = 'aclImdb') -> pd.DataFrame:\n",
    "    \"\"\"\n",
    "    Читает отзывы из файлов в указанной директории и собирает их в DataFrame.\n",
    "\n",
    "    Args:\n",
    "        sample: Название выборки (например, 'train' или 'test').\n",
    "        sentiment: Направление сентимент анализа ('pos' для положительных отзывов и 'neg' для отрицательных).\n",
    "        data_dir: Путь к основной директории с данными. По умолчанию 'aclImdb'.\n",
    "\n",
    "    Returns:\n",
    "        pd.DataFrame: DataFrame, содержащий идентификаторы, текст отзывов, рейтинги и метки положительных отзывов.\n",
    "    \"\"\"\n",
    "    \n",
    "    output_frame = {\n",
    "        'id': [],\n",
    "        'text': [],\n",
    "        'rating': [],\n",
    "        'positive': []\n",
    "    }\n",
    "\n",
    "    dir_path = f'../{data_dir}/{sample}/{sentiment}'\n",
    "    \n",
    "    if not os.path.exists(dir_path):\n",
    "        print(f\"Directory {dir_path} does not exist.\")\n",
    "        return pd.DataFrame()\n",
    "\n",
    "    files = os.listdir(dir_path)\n",
    "    for filename in files:\n",
    "        rating = filename[filename.find('_') + 1: filename.find('.')]\n",
    "        rev_id = filename[:filename.find('_')]\n",
    "\n",
    "        file_path = os.path.join(dir_path, filename)\n",
    "        text = read_file(file_path)\n",
    "\n",
    "        output_frame['rating'].append(rating)\n",
    "        output_frame['text'].append(text)\n",
    "        output_frame['id'].append(rev_id)\n",
    "\n",
    "    output_frame['positive'].extend(\n",
    "        [1] * len(files) if sentiment == 'pos' else [0] * len(files)\n",
    "    )\n",
    "    \n",
    "    return pd.DataFrame.from_dict(output_frame)"
   ]
  },
  {
   "cell_type": "markdown",
   "metadata": {},
   "source": [
    "Объединим позитивные и негативные отзывы в одну выборку"
   ]
  },
  {
   "cell_type": "code",
   "execution_count": 14,
   "metadata": {},
   "outputs": [],
   "source": [
    "train_pos_df = data_parse(sample = 'train', sentiment = 'pos')\n",
    "train_neg_df = data_parse(sample = 'train', sentiment = 'neg')"
   ]
  },
  {
   "cell_type": "code",
   "execution_count": 17,
   "metadata": {},
   "outputs": [],
   "source": [
    "train_df = pd.concat([train_pos_df, train_neg_df])"
   ]
  },
  {
   "cell_type": "code",
   "execution_count": 16,
   "metadata": {},
   "outputs": [
    {
     "data": {
      "text/html": [
       "<div>\n",
       "<style scoped>\n",
       "    .dataframe tbody tr th:only-of-type {\n",
       "        vertical-align: middle;\n",
       "    }\n",
       "\n",
       "    .dataframe tbody tr th {\n",
       "        vertical-align: top;\n",
       "    }\n",
       "\n",
       "    .dataframe thead th {\n",
       "        text-align: right;\n",
       "    }\n",
       "</style>\n",
       "<table border=\"1\" class=\"dataframe\">\n",
       "  <thead>\n",
       "    <tr style=\"text-align: right;\">\n",
       "      <th></th>\n",
       "      <th>id</th>\n",
       "      <th>text</th>\n",
       "      <th>rating</th>\n",
       "      <th>positive</th>\n",
       "    </tr>\n",
       "  </thead>\n",
       "  <tbody>\n",
       "    <tr>\n",
       "      <th>0</th>\n",
       "      <td>0</td>\n",
       "      <td>Bromwell High is a cartoon comedy. It ran at t...</td>\n",
       "      <td>9</td>\n",
       "      <td>1</td>\n",
       "    </tr>\n",
       "    <tr>\n",
       "      <th>1</th>\n",
       "      <td>10000</td>\n",
       "      <td>Homelessness (or Houselessness as George Carli...</td>\n",
       "      <td>8</td>\n",
       "      <td>1</td>\n",
       "    </tr>\n",
       "    <tr>\n",
       "      <th>2</th>\n",
       "      <td>10001</td>\n",
       "      <td>Brilliant over-acting by Lesley Ann Warren. Be...</td>\n",
       "      <td>10</td>\n",
       "      <td>1</td>\n",
       "    </tr>\n",
       "    <tr>\n",
       "      <th>3</th>\n",
       "      <td>10002</td>\n",
       "      <td>This is easily the most underrated film inn th...</td>\n",
       "      <td>7</td>\n",
       "      <td>1</td>\n",
       "    </tr>\n",
       "    <tr>\n",
       "      <th>4</th>\n",
       "      <td>10003</td>\n",
       "      <td>This is not the typical Mel Brooks film. It wa...</td>\n",
       "      <td>8</td>\n",
       "      <td>1</td>\n",
       "    </tr>\n",
       "    <tr>\n",
       "      <th>...</th>\n",
       "      <td>...</td>\n",
       "      <td>...</td>\n",
       "      <td>...</td>\n",
       "      <td>...</td>\n",
       "    </tr>\n",
       "    <tr>\n",
       "      <th>12495</th>\n",
       "      <td>9998</td>\n",
       "      <td>Towards the end of the movie, I felt it was to...</td>\n",
       "      <td>4</td>\n",
       "      <td>0</td>\n",
       "    </tr>\n",
       "    <tr>\n",
       "      <th>12496</th>\n",
       "      <td>9999</td>\n",
       "      <td>This is the kind of movie that my enemies cont...</td>\n",
       "      <td>3</td>\n",
       "      <td>0</td>\n",
       "    </tr>\n",
       "    <tr>\n",
       "      <th>12497</th>\n",
       "      <td>999</td>\n",
       "      <td>I saw 'Descent' last night at the Stockholm Fi...</td>\n",
       "      <td>3</td>\n",
       "      <td>0</td>\n",
       "    </tr>\n",
       "    <tr>\n",
       "      <th>12498</th>\n",
       "      <td>99</td>\n",
       "      <td>Some films that you pick up for a pound turn o...</td>\n",
       "      <td>1</td>\n",
       "      <td>0</td>\n",
       "    </tr>\n",
       "    <tr>\n",
       "      <th>12499</th>\n",
       "      <td>9</td>\n",
       "      <td>This is one of the dumbest films, I've ever se...</td>\n",
       "      <td>1</td>\n",
       "      <td>0</td>\n",
       "    </tr>\n",
       "  </tbody>\n",
       "</table>\n",
       "<p>25000 rows × 4 columns</p>\n",
       "</div>"
      ],
      "text/plain": [
       "          id                                               text rating  \\\n",
       "0          0  Bromwell High is a cartoon comedy. It ran at t...      9   \n",
       "1      10000  Homelessness (or Houselessness as George Carli...      8   \n",
       "2      10001  Brilliant over-acting by Lesley Ann Warren. Be...     10   \n",
       "3      10002  This is easily the most underrated film inn th...      7   \n",
       "4      10003  This is not the typical Mel Brooks film. It wa...      8   \n",
       "...      ...                                                ...    ...   \n",
       "12495   9998  Towards the end of the movie, I felt it was to...      4   \n",
       "12496   9999  This is the kind of movie that my enemies cont...      3   \n",
       "12497    999  I saw 'Descent' last night at the Stockholm Fi...      3   \n",
       "12498     99  Some films that you pick up for a pound turn o...      1   \n",
       "12499      9  This is one of the dumbest films, I've ever se...      1   \n",
       "\n",
       "       positive  \n",
       "0             1  \n",
       "1             1  \n",
       "2             1  \n",
       "3             1  \n",
       "4             1  \n",
       "...         ...  \n",
       "12495         0  \n",
       "12496         0  \n",
       "12497         0  \n",
       "12498         0  \n",
       "12499         0  \n",
       "\n",
       "[25000 rows x 4 columns]"
      ]
     },
     "execution_count": 16,
     "metadata": {},
     "output_type": "execute_result"
    }
   ],
   "source": [
    "train_df"
   ]
  },
  {
   "cell_type": "markdown",
   "metadata": {},
   "source": [
    "Аналогично для тестовой выборки"
   ]
  },
  {
   "cell_type": "code",
   "execution_count": 18,
   "metadata": {},
   "outputs": [],
   "source": [
    "test_pos_df = data_parse(sample = 'test', sentiment = 'pos')\n",
    "test_neg_df = data_parse(sample = 'test', sentiment = 'neg')"
   ]
  },
  {
   "cell_type": "code",
   "execution_count": 19,
   "metadata": {},
   "outputs": [],
   "source": [
    "test_df = pd.concat([test_pos_df, test_neg_df])"
   ]
  },
  {
   "cell_type": "markdown",
   "metadata": {},
   "source": [
    "Сохраним DataFrame в CSV файл"
   ]
  },
  {
   "cell_type": "code",
   "execution_count": 22,
   "metadata": {},
   "outputs": [],
   "source": [
    "train_df.to_csv('../data/train.csv', index=False, encoding='utf-8')\n",
    "test_df.to_csv('../data/test.csv', index=False, encoding='utf-8')\n"
   ]
  }
 ],
 "metadata": {
  "kernelspec": {
   "display_name": "venv",
   "language": "python",
   "name": "python3"
  },
  "language_info": {
   "codemirror_mode": {
    "name": "ipython",
    "version": 3
   },
   "file_extension": ".py",
   "mimetype": "text/x-python",
   "name": "python",
   "nbconvert_exporter": "python",
   "pygments_lexer": "ipython3",
   "version": "3.9.8"
  }
 },
 "nbformat": 4,
 "nbformat_minor": 2
}
